{
 "cells": [
  {
   "attachments": {},
   "cell_type": "markdown",
   "metadata": {},
   "source": [
    "## Aufg 4\n",
    "### Rotation von Bildern"
   ]
  },
  {
   "attachments": {},
   "cell_type": "markdown",
   "metadata": {},
   "source": [
    "## Aufg 4.1\n",
    "Drehung um 45°"
   ]
  },
  {
   "cell_type": "code",
   "execution_count": 1,
   "metadata": {},
   "outputs": [
    {
     "data": {
      "image/png": "[encoded data removed]",
      "text/plain": [
       "<Figure size 640x480 with 1 Axes>"
      ]
     },
     "metadata": {},
     "output_type": "display_data"
    }
   ],
   "source": [
    "import numpy as np\n",
    "from skimage.io import imread, imsave\n",
    "import matplotlib.pyplot as plt\n",
    "import itertools\n",
    "\n",
    "def rotate_image(image, angle):\n",
    "    # Bildgröße des Originalbildes\n",
    "    h, w = image.shape[:2]\n",
    "    \n",
    "    # Berechnung der Größe des Zielbildes\n",
    "    new_h = int(np.floor(np.sqrt(2) * h))\n",
    "    new_w = int(np.floor(np.sqrt(2) * w))\n",
    "    \n",
    "    # Mittelpunkt des Originalbildes\n",
    "    center_x = w / 2\n",
    "    center_y = h / 2\n",
    "    \n",
    "    # Winkel in Bogenmaß umrechnen\n",
    "    angle_rad = np.radians(angle)\n",
    "    \n",
    "    # Zielbild erstellen\n",
    "    target_image = np.zeros((new_h, new_w), dtype=image.dtype)\n",
    "    \n",
    "    # Pixel im Zielbild bestimmen\n",
    "    for y, x in itertools.product(range(new_h), range(new_w)):\n",
    "        # Ursprüngliche Koordinaten relativ zum Mittelpunkt berechnen\n",
    "        rel_x = x - new_w / 2\n",
    "        rel_y = y - new_h / 2\n",
    "        \n",
    "        # Ursprüngliche Koordinaten rotieren\n",
    "        orig_x = rel_x * np.cos(angle_rad) + rel_y * np.sin(angle_rad)\n",
    "        orig_y = -rel_x * np.sin(angle_rad) + rel_y * np.cos(angle_rad)\n",
    "        \n",
    "        # Ursprüngliche Koordinaten relativ zum Ursprung verschieben\n",
    "        orig_x += center_x\n",
    "        orig_y += center_y\n",
    "        \n",
    "        # Nächste ganzzahlige Koordinaten bestimmen\n",
    "        orig_x = int(np.round(orig_x))\n",
    "        orig_y = int(np.round(orig_y))\n",
    "        \n",
    "        # Überprüfen, ob die Koordinaten innerhalb des Originalbildes liegen\n",
    "        if 0 <= orig_x < w and 0 <= orig_y < h:\n",
    "            target_image[y, x] = image[orig_y, orig_x]\n",
    "        else:\n",
    "            # Pixel außerhalb des Originalbildes auf den nächsten vorhandenen Wert setzen\n",
    "            min_x = max(0, min(orig_x, w - 1))\n",
    "            max_x = min(w - 1, max(orig_x, 0))\n",
    "            min_y = max(0, min(orig_y, h - 1))\n",
    "            max_y = min(h - 1, max(orig_y, 0))\n",
    "            target_image[y, x] = image[min_y:max_y+1, min_x:max_x+1].mean()\n",
    "    \n",
    "    return target_image\n",
    "\n",
    "# Beispielanwendung\n",
    "image = imread('./tv.png')\n",
    "angle = 45.0  # Beliebiger Rotationswinkel\n",
    "\n",
    "target_image = rotate_image(image, angle)\n",
    "\n",
    "# Ergebnis anzeigen\n",
    "plt.imshow(target_image, cmap='gray')\n",
    "plt.axis('off')\n",
    "plt.show()\n",
    "\n",
    "# Ergebnisbild speichern\n",
    "imsave('output_tv.jpg', target_image)\n"
   ]
  }
 ],
 "metadata": {
  "kernelspec": {
   "display_name": "tools",
   "language": "python",
   "name": "python3"
  },
  "language_info": {
   "codemirror_mode": {
    "name": "ipython",
    "version": 3
   },
   "file_extension": ".py",
   "mimetype": "text/x-python",
   "name": "python",
   "nbconvert_exporter": "python",
   "pygments_lexer": "ipython3",
   "version": "3.11.0"
  },
  "orig_nbformat": 4
 },
 "nbformat": 4,
 "nbformat_minor": 2
}
