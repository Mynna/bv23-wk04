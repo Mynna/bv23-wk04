{
 "cells": [
  {
   "attachments": {},
   "cell_type": "markdown",
   "metadata": {},
   "source": [
    "## Aufgabe 2"
   ]
  },
  {
   "cell_type": "code",
   "execution_count": 2,
   "metadata": {},
   "outputs": [],
   "source": [
    "#Pakete\n",
    "from skimage.io import imread\n",
    "from skimage.filters import gaussian,laplace,sobel\n",
    "import numpy as np\n",
    "import matplotlib.pyplot as plt\n",
    "from skimage.util import random_noise"
   ]
  },
  {
   "attachments": {},
   "cell_type": "markdown",
   "metadata": {},
   "source": [
    "### Aufgabe 2.1"
   ]
  },
  {
   "cell_type": "code",
   "execution_count": null,
   "metadata": {},
   "outputs": [],
   "source": [
    "img=imread('./bilder-Wk09/einstein.png')/255\n",
    "smoothingImg=gaussian(img,3)\n",
    "noisyImg=random_noise(img,'gaussian',var=0.01)\n",
    "\n",
    "plt.figure(1)\n",
    "plt.title('Original-Var.1')\n",
    "plt.imshow(img,cmap='gray')\n",
    "\n",
    "plt.figure(2)\n",
    "plt.title('Weichgezeichnet-Var.2')\n",
    "plt.imshow(smoothingImg,cmap='gray')\n",
    "\n",
    "plt.figure(3)\n",
    "plt.title('Verrauscht-Var.3')\n",
    "plt.imshow(noisyImg,cmap='gray')"
   ]
  }
 ],
 "metadata": {
  "kernelspec": {
   "display_name": "tools",
   "language": "python",
   "name": "python3"
  },
  "language_info": {
   "codemirror_mode": {
    "name": "ipython",
    "version": 3
   },
   "file_extension": ".py",
   "mimetype": "text/x-python",
   "name": "python",
   "nbconvert_exporter": "python",
   "pygments_lexer": "ipython3",
   "version": "3.11.0"
  },
  "orig_nbformat": 4
 },
 "nbformat": 4,
 "nbformat_minor": 2
}
